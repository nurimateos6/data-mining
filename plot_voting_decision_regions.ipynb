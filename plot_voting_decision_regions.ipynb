{
  "cells": [
    {
      "cell_type": "code",
      "execution_count": null,
      "metadata": {
        "id": "UMhRWm0u8wHQ"
      },
      "outputs": [],
      "source": [
        "%matplotlib inline"
      ]
    },
    {
      "cell_type": "markdown",
      "metadata": {
        "id": "nj_9rWZA8wHR"
      },
      "source": [
        "\n",
        "# Plot the decision boundaries of a VotingClassifier\n",
        "\n",
        ".. currentmodule:: sklearn\n",
        "\n",
        "Plot the decision boundaries of a :class:`~ensemble.VotingClassifier` for two\n",
        "features of the Iris dataset.\n",
        "\n",
        "Plot the class probabilities of the first sample in a toy dataset predicted by\n",
        "three different classifiers and averaged by the\n",
        ":class:`~ensemble.VotingClassifier`.\n",
        "\n",
        "First, three exemplary classifiers are initialized\n",
        "(:class:`~tree.DecisionTreeClassifier`,\n",
        ":class:`~neighbors.KNeighborsClassifier`, and :class:`~svm.SVC`) and used to\n",
        "initialize a soft-voting :class:`~ensemble.VotingClassifier` with weights `[2,\n",
        "1, 2]`, which means that the predicted probabilities of the\n",
        ":class:`~tree.DecisionTreeClassifier` and :class:`~svm.SVC` each count 2 times\n",
        "as much as the weights of the :class:`~neighbors.KNeighborsClassifier`\n",
        "classifier when the averaged probability is calculated.\n"
      ]
    },
    {
      "cell_type": "code",
      "execution_count": null,
      "metadata": {
        "id": "OojS5gOD8wHS"
      },
      "outputs": [],
      "source": [
        "from itertools import product\n",
        "\n",
        "import numpy as np\n",
        "import matplotlib.pyplot as plt\n",
        "\n",
        "from sklearn import datasets\n",
        "from sklearn.tree import DecisionTreeClassifier\n",
        "from sklearn.neighbors import KNeighborsClassifier\n",
        "from sklearn.svm import SVC\n",
        "from sklearn.ensemble import VotingClassifier\n",
        "\n",
        "# Loading some example data\n",
        "iris = datasets.load_iris()\n",
        "X = iris.data[:, [0, 2]]\n",
        "y = iris.target\n",
        "\n",
        "# Training classifiers\n",
        "clf1 = DecisionTreeClassifier(max_depth=4)\n",
        "clf2 = KNeighborsClassifier(n_neighbors=7)\n",
        "clf3 = SVC(gamma=0.1, kernel=\"rbf\", probability=True)\n",
        "eclf = VotingClassifier(\n",
        "    estimators=[(\"dt\", clf1), (\"knn\", clf2), (\"svc\", clf3)],\n",
        "    voting=\"soft\",\n",
        "    weights=[2, 1, 2],\n",
        ")\n",
        "\n",
        "clf1.fit(X, y)\n",
        "clf2.fit(X, y)\n",
        "clf3.fit(X, y)\n",
        "eclf.fit(X, y)\n",
        "\n",
        "# Plotting decision regions\n",
        "x_min, x_max = X[:, 0].min() - 1, X[:, 0].max() + 1\n",
        "y_min, y_max = X[:, 1].min() - 1, X[:, 1].max() + 1\n",
        "xx, yy = np.meshgrid(np.arange(x_min, x_max, 0.1), np.arange(y_min, y_max, 0.1))\n",
        "\n",
        "f, axarr = plt.subplots(2, 2, sharex=\"col\", sharey=\"row\", figsize=(10, 8))\n",
        "\n",
        "for idx, clf, tt in zip(\n",
        "    product([0, 1], [0, 1]),\n",
        "    [clf1, clf2, clf3, eclf],\n",
        "    [\"Decision Tree (depth=4)\", \"KNN (k=7)\", \"Kernel SVM\", \"Soft Voting\"],\n",
        "):\n",
        "\n",
        "    Z = clf.predict(np.c_[xx.ravel(), yy.ravel()])\n",
        "    Z = Z.reshape(xx.shape)\n",
        "\n",
        "    axarr[idx[0], idx[1]].contourf(xx, yy, Z, alpha=0.4)\n",
        "    axarr[idx[0], idx[1]].scatter(X[:, 0], X[:, 1], c=y, s=20, edgecolor=\"k\")\n",
        "    axarr[idx[0], idx[1]].set_title(tt)\n",
        "\n",
        "plt.show()"
      ]
    },
    {
      "cell_type": "code",
      "execution_count": null,
      "outputs": [],
      "source": [],
      "metadata": {
        "pycharm": {
          "name": "#%%\n"
        },
        "id": "Vo0rLfzL8wHS"
      }
    }
  ],
  "metadata": {
    "kernelspec": {
      "display_name": "Python 3",
      "language": "python",
      "name": "python3"
    },
    "language_info": {
      "codemirror_mode": {
        "name": "ipython",
        "version": 3
      },
      "file_extension": ".py",
      "mimetype": "text/x-python",
      "name": "python",
      "nbconvert_exporter": "python",
      "pygments_lexer": "ipython3",
      "version": "3.9.7"
    },
    "colab": {
      "provenance": []
    }
  },
  "nbformat": 4,
  "nbformat_minor": 0
}