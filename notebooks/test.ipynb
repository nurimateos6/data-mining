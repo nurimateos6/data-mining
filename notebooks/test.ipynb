{
 "cells": [
  {
   "cell_type": "code",
   "execution_count": 10,
   "metadata": {
    "pycharm": {
     "name": "#%%\n"
    }
   },
   "outputs": [],
   "source": [
    "from data.load_data import load_df_data\n",
    "from featuring.split_data import split_data\n",
    "from model.logistic_regression import logistic_regression\n",
    "from model.svm import svm\n",
    "from model.random_forest import rf\n",
    "from model.nn import mlp"
   ]
  },
  {
   "cell_type": "code",
   "execution_count": 5,
   "metadata": {
    "pycharm": {
     "name": "#%%\n"
    }
   },
   "outputs": [],
   "source": [
    "df = load_df_data(\"https://raw.githubusercontent.com/4data-lab/datasets/master/exercise.csv\")"
   ]
  },
  {
   "cell_type": "code",
   "execution_count": 3,
   "metadata": {
    "pycharm": {
     "name": "#%%\n"
    }
   },
   "outputs": [
    {
     "data": {
      "text/html": [
       "<div>\n",
       "<style scoped>\n",
       "    .dataframe tbody tr th:only-of-type {\n",
       "        vertical-align: middle;\n",
       "    }\n",
       "\n",
       "    .dataframe tbody tr th {\n",
       "        vertical-align: top;\n",
       "    }\n",
       "\n",
       "    .dataframe thead th {\n",
       "        text-align: right;\n",
       "    }\n",
       "</style>\n",
       "<table border=\"1\" class=\"dataframe\">\n",
       "  <thead>\n",
       "    <tr style=\"text-align: right;\">\n",
       "      <th></th>\n",
       "      <th>GridID</th>\n",
       "      <th>date</th>\n",
       "      <th>Shift</th>\n",
       "      <th>Accident</th>\n",
       "      <th>Longitude.grid</th>\n",
       "      <th>Latitude.grid</th>\n",
       "    </tr>\n",
       "  </thead>\n",
       "  <tbody>\n",
       "    <tr>\n",
       "      <th>0</th>\n",
       "      <td>1</td>\n",
       "      <td>2010-10-08</td>\n",
       "      <td>Night</td>\n",
       "      <td>0</td>\n",
       "      <td>2.08</td>\n",
       "      <td>41.41</td>\n",
       "    </tr>\n",
       "    <tr>\n",
       "      <th>1</th>\n",
       "      <td>1</td>\n",
       "      <td>2011-02-16</td>\n",
       "      <td>Morning</td>\n",
       "      <td>0</td>\n",
       "      <td>2.08</td>\n",
       "      <td>41.41</td>\n",
       "    </tr>\n",
       "    <tr>\n",
       "      <th>2</th>\n",
       "      <td>1</td>\n",
       "      <td>2014-05-31</td>\n",
       "      <td>Night</td>\n",
       "      <td>0</td>\n",
       "      <td>2.08</td>\n",
       "      <td>41.41</td>\n",
       "    </tr>\n",
       "    <tr>\n",
       "      <th>3</th>\n",
       "      <td>1</td>\n",
       "      <td>2011-04-03</td>\n",
       "      <td>Afternoon</td>\n",
       "      <td>0</td>\n",
       "      <td>2.08</td>\n",
       "      <td>41.41</td>\n",
       "    </tr>\n",
       "    <tr>\n",
       "      <th>4</th>\n",
       "      <td>1</td>\n",
       "      <td>2013-02-20</td>\n",
       "      <td>Morning</td>\n",
       "      <td>0</td>\n",
       "      <td>2.08</td>\n",
       "      <td>41.41</td>\n",
       "    </tr>\n",
       "  </tbody>\n",
       "</table>\n",
       "</div>"
      ],
      "text/plain": [
       "   GridID        date      Shift  Accident  Longitude.grid  Latitude.grid\n",
       "0       1  2010-10-08      Night         0            2.08          41.41\n",
       "1       1  2011-02-16    Morning         0            2.08          41.41\n",
       "2       1  2014-05-31      Night         0            2.08          41.41\n",
       "3       1  2011-04-03  Afternoon         0            2.08          41.41\n",
       "4       1  2013-02-20    Morning         0            2.08          41.41"
      ]
     },
     "execution_count": 3,
     "metadata": {},
     "output_type": "execute_result"
    }
   ],
   "source": [
    "df.head()"
   ]
  },
  {
   "cell_type": "code",
   "execution_count": 6,
   "metadata": {
    "pycharm": {
     "name": "#%%\n"
    }
   },
   "outputs": [],
   "source": [
    "X_train, X_test, y_train, y_test = split_data(df)"
   ]
  },
  {
   "cell_type": "code",
   "execution_count": 5,
   "metadata": {
    "pycharm": {
     "name": "#%%\n"
    }
   },
   "outputs": [
    {
     "data": {
      "text/html": [
       "<div>\n",
       "<style scoped>\n",
       "    .dataframe tbody tr th:only-of-type {\n",
       "        vertical-align: middle;\n",
       "    }\n",
       "\n",
       "    .dataframe tbody tr th {\n",
       "        vertical-align: top;\n",
       "    }\n",
       "\n",
       "    .dataframe thead th {\n",
       "        text-align: right;\n",
       "    }\n",
       "</style>\n",
       "<table border=\"1\" class=\"dataframe\">\n",
       "  <thead>\n",
       "    <tr style=\"text-align: right;\">\n",
       "      <th></th>\n",
       "      <th>GridID</th>\n",
       "      <th>Shift</th>\n",
       "      <th>Longitude.grid</th>\n",
       "      <th>Latitude.grid</th>\n",
       "      <th>year</th>\n",
       "      <th>month</th>\n",
       "      <th>day</th>\n",
       "    </tr>\n",
       "  </thead>\n",
       "  <tbody>\n",
       "    <tr>\n",
       "      <th>688092</th>\n",
       "      <td>1204</td>\n",
       "      <td>1</td>\n",
       "      <td>2.1900</td>\n",
       "      <td>41.4075</td>\n",
       "      <td>2014</td>\n",
       "      <td>3</td>\n",
       "      <td>12</td>\n",
       "    </tr>\n",
       "    <tr>\n",
       "      <th>818223</th>\n",
       "      <td>1434</td>\n",
       "      <td>2</td>\n",
       "      <td>2.2175</td>\n",
       "      <td>41.4050</td>\n",
       "      <td>2011</td>\n",
       "      <td>3</td>\n",
       "      <td>11</td>\n",
       "    </tr>\n",
       "    <tr>\n",
       "      <th>784370</th>\n",
       "      <td>1374</td>\n",
       "      <td>2</td>\n",
       "      <td>2.2050</td>\n",
       "      <td>41.4250</td>\n",
       "      <td>2014</td>\n",
       "      <td>1</td>\n",
       "      <td>30</td>\n",
       "    </tr>\n",
       "    <tr>\n",
       "      <th>10327</th>\n",
       "      <td>19</td>\n",
       "      <td>0</td>\n",
       "      <td>2.0975</td>\n",
       "      <td>41.4275</td>\n",
       "      <td>2013</td>\n",
       "      <td>5</td>\n",
       "      <td>16</td>\n",
       "    </tr>\n",
       "    <tr>\n",
       "      <th>605123</th>\n",
       "      <td>1059</td>\n",
       "      <td>1</td>\n",
       "      <td>2.1800</td>\n",
       "      <td>41.4100</td>\n",
       "      <td>2011</td>\n",
       "      <td>7</td>\n",
       "      <td>21</td>\n",
       "    </tr>\n",
       "  </tbody>\n",
       "</table>\n",
       "</div>"
      ],
      "text/plain": [
       "        GridID  Shift  Longitude.grid  Latitude.grid  year  month  day\n",
       "688092    1204      1          2.1900        41.4075  2014      3   12\n",
       "818223    1434      2          2.2175        41.4050  2011      3   11\n",
       "784370    1374      2          2.2050        41.4250  2014      1   30\n",
       "10327       19      0          2.0975        41.4275  2013      5   16\n",
       "605123    1059      1          2.1800        41.4100  2011      7   21"
      ]
     },
     "execution_count": 5,
     "metadata": {},
     "output_type": "execute_result"
    }
   ],
   "source": [
    "X_train.head()"
   ]
  },
  {
   "cell_type": "code",
   "execution_count": 6,
   "metadata": {
    "pycharm": {
     "name": "#%%\n"
    }
   },
   "outputs": [
    {
     "data": {
      "text/plain": [
       "688092    0\n",
       "818223    0\n",
       "784370    0\n",
       "10327     0\n",
       "605123    0\n",
       "Name: Accident, dtype: int64"
      ]
     },
     "execution_count": 6,
     "metadata": {},
     "output_type": "execute_result"
    }
   ],
   "source": [
    "y_train.head()"
   ]
  },
  {
   "cell_type": "code",
   "execution_count": 7,
   "metadata": {
    "pycharm": {
     "name": "#%%\n"
    }
   },
   "outputs": [
    {
     "data": {
      "text/plain": [
       "0    630499\n",
       "1     29170\n",
       "Name: Accident, dtype: int64"
      ]
     },
     "execution_count": 7,
     "metadata": {},
     "output_type": "execute_result"
    }
   ],
   "source": [
    "y_train.value_counts()"
   ]
  },
  {
   "cell_type": "code",
   "execution_count": 8,
   "metadata": {
    "pycharm": {
     "name": "#%%\n"
    }
   },
   "outputs": [
    {
     "data": {
      "text/plain": [
       "0    0.955781\n",
       "1    0.044219\n",
       "Name: Accident, dtype: float64"
      ]
     },
     "execution_count": 8,
     "metadata": {},
     "output_type": "execute_result"
    }
   ],
   "source": [
    "y_train.value_counts(normalize = True)"
   ]
  },
  {
   "cell_type": "code",
   "execution_count": 9,
   "metadata": {
    "pycharm": {
     "name": "#%%\n"
    }
   },
   "outputs": [
    {
     "name": "stdout",
     "output_type": "stream",
     "text": [
      "Matriz de confusión del LogisticRegression(class_weight='balanced', random_state=42) - Test\n",
      "Verdaderos Negativos \t 91397\n",
      "Falsos Positivos \t 66174\n",
      "Falsos Negativos \t 3056\n",
      "Verdaderos Positivos \t 4291\n",
      "Especificidad: 58.00369357305596\n",
      "Sensibilidad: 58.404791071185514\n",
      "AUC - Datos de test\n",
      "0.5820424232212074\n"
     ]
    },
    {
     "data": {
      "image/png": "[encoded data removed]",
      "text/plain": [
       "<Figure size 432x288 with 1 Axes>"
      ]
     },
     "metadata": {
      "needs_background": "light"
     },
     "output_type": "display_data"
    }
   ],
   "source": [
    "score, confusion_matrix, especifidad, sensibilidad = logistic_regression(X_train, y_train, X_test, y_test)"
   ]
  },
  {
   "cell_type": "code",
   "execution_count": null,
   "metadata": {
    "pycharm": {
     "name": "#%%\n"
    }
   },
   "outputs": [],
   "source": [
    "score1, confusion_matrix1, especifidad1, sensibilidad1 = svm(X_train, y_train, X_test, y_test)\n"
   ]
  },
  {
   "cell_type": "code",
   "execution_count": 12,
   "metadata": {
    "pycharm": {
     "name": "#%%\n"
    }
   },
   "outputs": [],
   "source": [
    "score2, confusion_matrix2, especifidad2, sensibilidad2 = rf(X_train, y_train, X_test, y_test)\n"
   ]
  },
  {
   "cell_type": "code",
   "execution_count": null,
   "metadata": {
    "pycharm": {
     "name": "#%%\n"
    }
   },
   "outputs": [],
   "source": [
    "score3, confusion_matrix3, especifidad3, sensibilidad3 = mlp(X_train, y_train, X_test, y_test)\n"
   ]
  }
 ],
 "metadata": {
  "kernelspec": {
   "display_name": "Python 3.10.2 64-bit",
   "language": "python",
   "name": "python3"
  },
  "language_info": {
   "codemirror_mode": {
    "name": "ipython",
    "version": 3
   },
   "file_extension": ".py",
   "mimetype": "text/x-python",
   "name": "python",
   "nbconvert_exporter": "python",
   "pygments_lexer": "ipython3",
   "version": "3.10.2"
  },
  "orig_nbformat": 4,
  "vscode": {
   "interpreter": {
    "hash": "f6d72e770ae6acaa5a59ea9177007295f48da337165bc55a2d1b1d417cf66c28"
   }
  }
 },
 "nbformat": 4,
 "nbformat_minor": 2
}